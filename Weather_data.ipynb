{
 "cells": [
  {
   "cell_type": "markdown",
   "metadata": {},
   "source": [
    "This code extracts weather data from the NOAA ASOS system : https://www.weather.gov/asos/asostech\n",
    "\n",
    "All the ASOS data can be accessed via ftp from their server : ftp://ftp.ncdc.noaa.gov/pub/data/noaa\n",
    "\n",
    "Within this there are folders for each years data named 'yyyy'.\n",
    "\n",
    "Inside each year there are gzipped files for each weather station in the network. \n",
    "\n",
    "The name of each file follows a pattern given by: AAAAAA-BBBBBB-YYYY.gz. For example,\n",
    "723150-03812-2006 corresponds with USAF number 723150 and WBAN number 03812.\n",
    "\n",
    "USAF and WBAN are identifiers for each station and their information is available in the **ASOS_stations.txt** file\n",
    "    \n",
    "YYYY stands for year"
   ]
  },
  {
   "cell_type": "markdown",
   "metadata": {},
   "source": [
    "# Import statements"
   ]
  },
  {
   "cell_type": "code",
   "execution_count": null,
   "metadata": {},
   "outputs": [],
   "source": [
    "import pandas as pd\n",
    "import numpy as np\n",
    "import re\n",
    "import matplotlib.pyplot as plt\n",
    "pd.plotting.register_matplotlib_converters()"
   ]
  },
  {
   "cell_type": "markdown",
   "metadata": {},
   "source": [
    "# StationID dictionary \n",
    "I'm defining the stationID to be the string \"USAF identifier-WBAN identifier\"\n",
    "This chunk of code generates a dict where keys are state names, values are stationID associated with that state. "
   ]
  },
  {
   "cell_type": "code",
   "execution_count": null,
   "metadata": {},
   "outputs": [],
   "source": [
    "def generate_stationID_dict():\n",
    "    '''I'm defining the stationID to be the string \"USAF identifier-WBAN identifier\"\n",
    "      This chunk of code generates a dict where keys are state names and  \n",
    "      values are stationID associated with that state. '''\n",
    "    \n",
    "    #filepath_stations =\"/Users/NikhilStuff/Desktop/social-master/ASOS_stations.txt\"\n",
    "    filepath_stations = \"ftp://ftp.ncdc.noaa.gov/pub/data/noaa/isd-history.txt\"\n",
    "    cols_to_use = ['USAF', 'WBAN','CTRY', 'ST']\n",
    "    df_stations = pd.read_fwf(filepath_stations, skiprows = 20, header =0, usecols = cols_to_use)\n",
    "    df_stations_US = df_stations[df_stations.CTRY =='US'].copy()\n",
    "    df_stations_US.WBAN = df_stations_US.WBAN.astype('int64')\n",
    "    df_stations_US.dropna(inplace =True)\n",
    "    df_stations_US = df_stations_US[df_stations_US.WBAN !=99999].copy()\n",
    "\n",
    "    def my_func(row):\n",
    "        return str(row.USAF)+ '-' + str(row.WBAN).zfill(5)\n",
    "    df_stations_US['stationID'] = df_stations_US.apply(my_func, axis =1)\n",
    "\n",
    "    states = pd.unique(df_stations_US.ST.values)\n",
    "    stations_in_state = {}\n",
    "    for i in range(len(states)):\n",
    "        stations_in_state[states[i]] = list(df_stations_US[df_stations_US.ST == states[i]].stationID.values)\n",
    "    return stations_in_state\n",
    "stations_in_state = generate_stationID_dict()"
   ]
  },
  {
   "cell_type": "code",
   "execution_count": null,
   "metadata": {},
   "outputs": [],
   "source": [
    "def df_from_file(stationID,YEAR):\n",
    "    ''' This takes the stationID and year and outputs a dataframe with the Temperature readings.\n",
    "    Note that some tempertaure readings are missing in general.'''\n",
    "    \n",
    "    url_common = \"ftp://ftp.ncdc.noaa.gov/pub/data/noaa/\"\n",
    "    url_ftp = url_common + str(YEAR)+\"/\"+ stationID + \"-\"+  str(YEAR)+\".gz\"\n",
    "    \n",
    "    WBAN = re.findall(r'(.*)-(.*)',stationID)\n",
    "    WBAN = WBAN[0][1]\n",
    "    \n",
    "    #df = df_tmp[0].str.extractall(r'(?P<Temperature>\\d\\d)DEPART')\n",
    "    #df = df_tmp[0].str.extractall(r'24 HR AVG TEMP \\(F\\):(\\s)?(?P<Temperature>\\d\\d)')\n",
    "\n",
    "    def extract_Temp(row):\n",
    "        result = re.findall(r'24 HR AVG TEMP \\(F\\):(\\s)?(?P<Temperature>\\d\\d)',row)\n",
    "        if result == []: \n",
    "            result = [(np.nan,np.nan)]\n",
    "        return result[-1][1]\n",
    "\n",
    "    def extract_date(row):\n",
    "        date = [np.nan,np.nan,np.nan]\n",
    "        date = re.findall(WBAN + r'(\\d\\d\\d\\d)(\\d\\d)(\\d\\d)',row)\n",
    "        if date != []: \n",
    "            date =  date[0][0]+ date[0][1] +  date[0][2]\n",
    "        return date\n",
    "    try:\n",
    "        df = pd.read_csv(url_ftp, compression='gzip', header=None)\n",
    "        df['TEMPERATURE'+ stationID] = df[0].apply(extract_Temp)\n",
    "        df['DATE'] = df[0].apply(extract_date)\n",
    "        df.dropna(inplace =True)\n",
    "        df.drop(columns = [0], inplace=True)\n",
    "        df['DATE'] = pd.to_datetime(df['DATE'])\n",
    "        df['TEMPERATURE'+ stationID] = df['TEMPERATURE'+ stationID].astype('int64')\n",
    "        df.reset_index(inplace =True)\n",
    "        df.drop(columns = ['index'], inplace=True)\n",
    "        return df\n",
    "    except:\n",
    "        #print('No good')\n",
    "        DATE = pd.date_range(str(YEAR)+'-01-01', str(YEAR)+'-12-31')\n",
    "        df = pd.DataFrame(data =DATE, columns =['DATE'])\n",
    "        return df\n",
    "\n",
    "   "
   ]
  },
  {
   "cell_type": "code",
   "execution_count": null,
   "metadata": {},
   "outputs": [],
   "source": [
    "def all_stations_for_state_year(state,year):\n",
    "    '''This function reads data from all the stations in a particular state for a particular year \n",
    "    it returns a dataframe with all the dates in that year temperatures. last column contains mean temperatures. '''\n",
    "    \n",
    "    df_list = []\n",
    "    DATE = pd.date_range(str(year)+'-01-01', str(year)+'-12-31')\n",
    "    df = pd.DataFrame(data =DATE, columns =['DATE'])\n",
    "    for stID in stations_in_state[state]:\n",
    "        #print(stID)\n",
    "        xx = df_from_file(stID,year)\n",
    "        # put code here which gets rid of leap years?\n",
    "        df_list.append(xx)\n",
    "    for frame in df_list:\n",
    "        df =df.merge(frame, on = 'DATE', how ='left')\n",
    "    df.set_index('DATE', inplace = True)\n",
    "    df['MEAN_T'] = df.mean(axis =1)\n",
    "    df['M/D'] = df.index.strftime('%m/%d')\n",
    "    return df\n"
   ]
  },
  {
   "cell_type": "code",
   "execution_count": null,
   "metadata": {},
   "outputs": [],
   "source": [
    "df_NY_2015 = all_stations_for_state_year('NY',2015) \n",
    "df_NY_2016 = all_stations_for_state_year('NY',2016) \n",
    "df_NY_2017 = all_stations_for_state_year('NY',2017) \n",
    "df_NY_2018 = all_stations_for_state_year('NY',2018) \n",
    "df_NY_2019 = all_stations_for_state_year('NY',2019) "
   ]
  },
  {
   "cell_type": "code",
   "execution_count": null,
   "metadata": {},
   "outputs": [],
   "source": [
    "fig,ax =plt.subplots(1,1)\n",
    "fig.set_size_inches(15,5)\n",
    "ax.plot(df_NY_2015.index, df_NY_2015['MEAN_T'],color = str(np.random.randint(500)), label = '2015')\n",
    "ax.plot(df_NY_2016.index, df_NY_2016['MEAN_T'],color = str(np.random.randint(500)), label = '2016')\n",
    "ax.plot(df_NY_2017.index, df_NY_2017['MEAN_T'],color = str(np.random.randint(500)), label = '2017')\n",
    "ax.plot(df_NY_2018.index, df_NY_2018['MEAN_T'],color = str(np.random.randint(500)), label = '2018')\n",
    "ax.plot(df_NY_2019.index, df_NY_2019['MEAN_T'],color = str(np.random.randint(500)), label = '2019')\n",
    "\n",
    "ax.set_ylabel('Temp(F)')\n",
    "ax.set_title('Mean Daily Temp in NY')\n",
    "plt.legend()\n",
    "plt.show()"
   ]
  },
  {
   "cell_type": "code",
   "execution_count": null,
   "metadata": {},
   "outputs": [],
   "source": [
    "def state_years(state, start_year, end_year):\n",
    "    '''Returns a single df with the mean temp data for all years between start-year and end year'''\n",
    "    years  = range(start_year, end_year+1,1)\n",
    "    df_list = []\n",
    "    for year in years:\n",
    "        xx=all_stations_for_state_year(state,year)\n",
    "        xx.rename(columns = {'MEAN_T' : str(year)}, inplace = True)\n",
    "        df_list.append(xx[[str(year),'M/D']])\n",
    "    df = df_list[0] \n",
    "    for frame in df_list[1:]:\n",
    "        df = df.merge(frame, on = 'M/D', how ='left')\n",
    "    df = df.sort_index(axis =1)\n",
    "    return df"
   ]
  },
  {
   "cell_type": "code",
   "execution_count": null,
   "metadata": {},
   "outputs": [],
   "source": [
    "df = state_years('NY', 2017,2018)"
   ]
  },
  {
   "cell_type": "code",
   "execution_count": null,
   "metadata": {},
   "outputs": [],
   "source": [
    "fig,ax =plt.subplots(1,1)\n",
    "\n",
    "ax.plot(df.index, df['2017'],'b-')\n",
    "ax.plot(df.index, df['2018'],'r-')\n",
    "ax.set_ylabel('Temp(F)')\n",
    "ax.set_title('Mean 24 h avg Temp in NY (2017-2018)')\n",
    "plt.show()"
   ]
  },
  {
   "cell_type": "code",
   "execution_count": null,
   "metadata": {},
   "outputs": [],
   "source": [
    "df_WA = state_years('WA', 2017,2018)"
   ]
  },
  {
   "cell_type": "code",
   "execution_count": null,
   "metadata": {},
   "outputs": [],
   "source": [
    "fig,ax =plt.subplots(1,1)\n",
    "\n",
    "ax.plot(df.index, df_WA['2017'],'b-')\n",
    "ax.plot(df.index, df_WA['2018'],'r-')\n",
    "ax.set_ylabel('Temp(F)')\n",
    "ax.set_title('Mean 24 h avg Temp in WA (2017-2018)')\n",
    "plt.show()"
   ]
  },
  {
   "cell_type": "code",
   "execution_count": null,
   "metadata": {},
   "outputs": [],
   "source": [
    "df_WA.head(10)"
   ]
  },
  {
   "cell_type": "code",
   "execution_count": null,
   "metadata": {},
   "outputs": [],
   "source": []
  }
 ],
 "metadata": {
  "kernelspec": {
   "display_name": "Python 3",
   "language": "python",
   "name": "python3"
  },
  "language_info": {
   "codemirror_mode": {
    "name": "ipython",
    "version": 3
   },
   "file_extension": ".py",
   "mimetype": "text/x-python",
   "name": "python",
   "nbconvert_exporter": "python",
   "pygments_lexer": "ipython3",
   "version": "3.8.2"
  }
 },
 "nbformat": 4,
 "nbformat_minor": 4
}
